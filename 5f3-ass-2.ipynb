{
 "cells": [
  {
   "cell_type": "markdown",
   "metadata": {},
   "source": [
    " 1. Given  the  lengths  of  three  sides  of  a  triangle,  calculate  the  area  of the triangle. "
   ]
  },
  {
   "cell_type": "code",
   "execution_count": 1,
   "metadata": {},
   "outputs": [
    {
     "data": {
      "text/plain": [
       "'C:\\\\Users\\\\SULTHAN'"
      ]
     },
     "execution_count": 1,
     "metadata": {},
     "output_type": "execute_result"
    }
   ],
   "source": [
    "pwd"
   ]
  },
  {
   "cell_type": "code",
   "execution_count": 4,
   "metadata": {},
   "outputs": [
    {
     "name": "stdout",
     "output_type": "stream",
     "text": [
      "enter first side4\n",
      "enter second side5\n",
      "enter third side6\n"
     ]
    }
   ],
   "source": [
    "a=int(input('enter first side'))\n",
    "b=int(input(\"enter second side\"))\n",
    "c=int(input('enter third side'))\n",
    "s=(a+b+c)/2\n",
    "\n",
    "\n",
    "area=(s*(s-a)*(s-b)*(s-c))**(1/2)"
   ]
  },
  {
   "cell_type": "code",
   "execution_count": 5,
   "metadata": {},
   "outputs": [
    {
     "name": "stdout",
     "output_type": "stream",
     "text": [
      "7.5\n"
     ]
    }
   ],
   "source": [
    "print(s)"
   ]
  },
  {
   "cell_type": "code",
   "execution_count": 6,
   "metadata": {},
   "outputs": [
    {
     "name": "stdout",
     "output_type": "stream",
     "text": [
      "9.921567416492215\n"
     ]
    }
   ],
   "source": [
    "print(area)"
   ]
  },
  {
   "cell_type": "raw",
   "metadata": {},
   "source": [
    "2.Take the string from user and check wheteher string is palindrome or not"
   ]
  },
  {
   "cell_type": "code",
   "execution_count": 1,
   "metadata": {},
   "outputs": [
    {
     "name": "stdout",
     "output_type": "stream",
     "text": [
      "enter the stringracecar\n",
      "palindrome\n"
     ]
    }
   ],
   "source": [
    "str1=input('enter the string')\n",
    "if(str1==str1[::-1]):\n",
    "    print(\"palindrome\")\n",
    "else:\n",
    "    print(\"not a palindrome\")"
   ]
  },
  {
   "cell_type": "markdown",
   "metadata": {},
   "source": [
    "4.Take a string as input, and replaces spaces “ “  with hyphens “-”, and returns a string.Input: \n",
    "    “ This program converts spaces into hyphen”     \n",
    "    Output:     “ This-program-converts-spaces-into-hyphen”"
   ]
  },
  {
   "cell_type": "code",
   "execution_count": 1,
   "metadata": {},
   "outputs": [],
   "source": [
    "def fun1(name):\n",
    "    str1=name.replace(\" \",\"-\")\n",
    "    return str1"
   ]
  },
  {
   "cell_type": "code",
   "execution_count": 2,
   "metadata": {
    "scrolled": true
   },
   "outputs": [
    {
     "data": {
      "text/plain": [
       "'Hello-sulthan'"
      ]
     },
     "execution_count": 2,
     "metadata": {},
     "output_type": "execute_result"
    }
   ],
   "source": [
    "fun1(\"Hello sulthan\")"
   ]
  },
  {
   "cell_type": "markdown",
   "metadata": {},
   "source": [
    "3.Write a program that reads a year from the user and displays a message Indicating whether or not it is a leap year"
   ]
  },
  {
   "cell_type": "code",
   "execution_count": 1,
   "metadata": {},
   "outputs": [
    {
     "name": "stdout",
     "output_type": "stream",
     "text": [
      "enter the year2012\n",
      "Leap year\n"
     ]
    }
   ],
   "source": [
    "n=int(input('enter the year'))\n",
    "if (n%400==0):\n",
    "  print(\"Leap year\")\n",
    "elif (n%100==0):\n",
    "  print(\"not a leap year\")\n",
    "elif (n%4==0):\n",
    "  print(\"Leap year\")"
   ]
  },
  {
   "cell_type": "markdown",
   "metadata": {},
   "source": [
    "6.Tax Calculator\n",
    "Ask  the  user  for  their  monthly  salary.  Calculate  whether  they  have  to  pay tax and if so, how much is that amount .Print the result"
   ]
  },
  {
   "cell_type": "code",
   "execution_count": 2,
   "metadata": {},
   "outputs": [
    {
     "name": "stdout",
     "output_type": "stream",
     "text": [
      "enter the salary756000\n",
      "amount to be paid 113400.0\n"
     ]
    }
   ],
   "source": [
    "salary=int(input(\"enter the salary\"))\n",
    "if(salary<=250000):\n",
    "  print(\"No need to pay tax Nil\")\n",
    "elif(salary>=250001 and salary<=500000):\n",
    "    amount=salary*(5/100)\n",
    "    print(\"amount to be paid\",amount)\n",
    "elif(salary>=500001 and salary<=750000):\n",
    "     amount=salary*(10/100)\n",
    "elif(salary>=750001 and salary<=1000000):\n",
    "     amount=salary*(15/100)\n",
    "     print(\"amount to be paid\",amount)\n",
    "elif(salary>=1000001 and salary<=1250000):\n",
    "     amount=salary*(20/100)\n",
    "     print(\"amount to be paid\",amount)\n",
    "elif(salary>=1250001 and salary<=1500000):\n",
    "     amount=salary*(25/100)\n",
    "     print(\"amount to be paid\",amount)\n",
    "      "
   ]
  },
  {
   "cell_type": "markdown",
   "metadata": {},
   "source": []
  },
  {
   "cell_type": "markdown",
   "metadata": {},
   "source": [
    "12.Compute given Num_list =  [5, 6,8 ,34,89,1] to get desired outputOutput: Out_list=[11,14,42,123,90]\n"
   ]
  },
  {
   "cell_type": "code",
   "execution_count": 4,
   "metadata": {},
   "outputs": [
    {
     "name": "stdout",
     "output_type": "stream",
     "text": [
      "[11, 14, 42, 123, 90]\n"
     ]
    }
   ],
   "source": [
    "list1=[5,6,8,34,89,1]\n",
    "n=len(list1)\n",
    "sum1=0\n",
    "list2=[]\n",
    "for i in range(0,n-1):\n",
    "    sum1=list1[i]+list1[i+1]\n",
    "    list2.append(sum1)\n",
    "    \n",
    "print(list2)"
   ]
  },
  {
   "cell_type": "markdown",
   "metadata": {},
   "source": [
    "11.Compute product of a list of numbers [45 ,3,2,89,72,1,10,7]\n",
    "Output: 121111200\n"
   ]
  },
  {
   "cell_type": "code",
   "execution_count": 5,
   "metadata": {},
   "outputs": [
    {
     "name": "stdout",
     "output_type": "stream",
     "text": [
      "121111200\n"
     ]
    }
   ],
   "source": [
    "list=[45,3,2,89,72,1,10,7]\n",
    "sum2=1\n",
    "n=len(list)\n",
    "for i in range(0,n):\n",
    "  sum2=sum2*list[i]\n",
    "\n",
    "print(sum2)"
   ]
  },
  {
   "cell_type": "markdown",
   "metadata": {},
   "source": [
    "16.Substring Check (Bug Funny)Given two binary strings, A (of length 10) and B (of length 5), output 1 if B is a substring of A and 0 otherwise.First two lines of input:1010110010          101101110111011           10011First two lines of output:10"
   ]
  },
  {
   "cell_type": "code",
   "execution_count": 1,
   "metadata": {},
   "outputs": [
    {
     "name": "stdout",
     "output_type": "stream",
     "text": [
      "enter the stringHello world\n",
      "enter the substringworld\n",
      "sub string  found\n",
      "1\n"
     ]
    }
   ],
   "source": [
    "str1=(input('enter the string'))\n",
    "str2=(input('enter the substring'))\n",
    "n=str1.find(str2,0,len(str1))\n",
    "if n==-1:\n",
    "    print(\"sub string not found\")\n",
    "    print(0)\n",
    "else:\n",
    "    print(\"sub string  found\")\n",
    "    print(1)"
   ]
  },
  {
   "cell_type": "code",
   "execution_count": null,
   "metadata": {},
   "outputs": [],
   "source": [
    "7.Take a list of integers as an argument, and converts it into a single integer (return the integer).\n",
    "*Input*: [11, 33, 50]*\n",
    "Output*: 113350"
   ]
  },
  {
   "cell_type": "code",
   "execution_count": 2,
   "metadata": {},
   "outputs": [
    {
     "name": "stdout",
     "output_type": "stream",
     "text": [
      "113350\n"
     ]
    }
   ],
   "source": [
    "l1=[11,33,50]\n",
    "n=len(l1)\n",
    "a=\"\"\n",
    "for i in range(0,n):\n",
    "    a=a+str(l1[i])\n",
    "    \n",
    "print(int(a))"
   ]
  },
  {
   "cell_type": "markdown",
   "metadata": {},
   "source": [
    "14.Write a Python code that takes a number and returns a list of its digits. So for 586392 it should return [5,8,6,3,9,2]"
   ]
  },
  {
   "cell_type": "code",
   "execution_count": 5,
   "metadata": {},
   "outputs": [],
   "source": [
    "n=586392\n",
    "n1=str(n)\n",
    "l2=list(n1)\n",
    "n=len(l2)\n",
    "for i in range(0,n):\n",
    "    l2[i]=int(l2[i])\n",
    "    \n",
    "\n",
    "    "
   ]
  },
  {
   "cell_type": "code",
   "execution_count": 6,
   "metadata": {},
   "outputs": [
    {
     "name": "stdout",
     "output_type": "stream",
     "text": [
      "[5, 8, 6, 3, 9, 2]\n"
     ]
    }
   ],
   "source": [
    "print(l2)"
   ]
  },
  {
   "cell_type": "markdown",
   "metadata": {},
   "source": [
    "13.Compute given Num_tuple =  (5, 6,8 ,3,9,1) to get desired outputOutput: \n",
    "Out_list = [5, 30, 240, 720, 6480, 6480]\n"
   ]
  },
  {
   "cell_type": "code",
   "execution_count": 3,
   "metadata": {},
   "outputs": [],
   "source": [
    "tupple=(5,6,8,3,9,1)\n",
    "l1=[]\n",
    "n=len(tupple)\n",
    "a=1\n",
    "for i in range(0,n):\n",
    "    a=a*tupple[i]\n",
    "    l1.append(a)"
   ]
  },
  {
   "cell_type": "code",
   "execution_count": 4,
   "metadata": {},
   "outputs": [
    {
     "name": "stdout",
     "output_type": "stream",
     "text": [
      "[5, 30, 240, 720, 6480, 6480]\n"
     ]
    }
   ],
   "source": [
    "print(l1)"
   ]
  },
  {
   "cell_type": "markdown",
   "metadata": {},
   "source": [
    "5.Unique Sort problem Take  a  string  as  input  that  accepts  a  comma  separated  sequence  of  words as input and prints the unique words in sorted form (alphanumerically).\n",
    "*Input*: orange, white, red, cyan, green, magenta, cyan, pink, white\n",
    "*Output*: cyan, green, magenta, orange, pink, red, white\n",
    "\n",
    "\n"
   ]
  },
  {
   "cell_type": "code",
   "execution_count": 5,
   "metadata": {},
   "outputs": [
    {
     "name": "stdout",
     "output_type": "stream",
     "text": [
      "enter the names\"orange\",\"white\",\"red\",\"cyan\",\"green\",\"magneta\",\"cyan\",\"pink\",\"white\"\n",
      "['\"cyan\"', '\"green\"', '\"magneta\"', '\"orange\"', '\"pink\"', '\"red\"', '\"white\"']\n"
     ]
    }
   ],
   "source": [
    "str1=input(\"enter the names\").split(',')\n",
    "l1=[]\n",
    "l1=list(str1)\n",
    "s1=set(l1)\n",
    "l2=[]\n",
    "l2=list(s1)\n",
    "l2.sort()\n",
    "print(l2)"
   ]
  },
  {
   "cell_type": "markdown",
   "metadata": {},
   "source": [
    "8.Create  a  program  that  reads  duration  from  the  user  as  a  number  of  days, hours,  minutes,  and  seconds.  Compute  and  display  the  total  number  of seconds represented by this duration.\n"
   ]
  },
  {
   "cell_type": "code",
   "execution_count": 1,
   "metadata": {},
   "outputs": [
    {
     "name": "stdout",
     "output_type": "stream",
     "text": [
      "enter the number of days5\n",
      "enter the number of hours36\n",
      "enter the number of minutes24\n",
      "enter the nimber of seconds15\n",
      "563055\n"
     ]
    }
   ],
   "source": [
    "days=int(input('enter the number of days'))\n",
    "hours=int(input('enter the number of hours'))\n",
    "minutes=int(input('enter the number of minutes'))\n",
    "seconds=int(input('enter the nimber of seconds'))\n",
    "seconds_per_min=60\n",
    "seconds_per_hour=3600\n",
    "seconds_per_day=86400\n",
    "totalseconds=days*seconds_per_day\n",
    "totalseconds=totalseconds+(hours*seconds_per_hour)\n",
    "totalseconds=totalseconds+(minutes*seconds_per_min)\n",
    "totalseconds=totalseconds+seconds\n",
    "print(totalseconds)"
   ]
  },
  {
   "cell_type": "markdown",
   "metadata": {},
   "source": []
  },
  {
   "cell_type": "markdown",
   "metadata": {},
   "source": [
    "9.Sort 3 IntegersGiven  three  integers  (given  through  user  input),  sort  the  numbers  using |min| and  |max| functions."
   ]
  },
  {
   "cell_type": "code",
   "execution_count": 8,
   "metadata": {},
   "outputs": [
    {
     "name": "stdout",
     "output_type": "stream",
     "text": [
      "enter the  first value67\n",
      "enter the second value45\n",
      "enter the third value98\n",
      "71.5\n",
      "[45, 71.5, 98]\n"
     ]
    }
   ],
   "source": [
    "a=int(input('enter the  first value'))\n",
    "b=int(input('enter the second value'))\n",
    "c=int(input('enter the third value'))\n",
    "l1=max(a,max(b,c))\n",
    "l2=min(a,min(b,c))\n",
    "l3=(l1+l2)/2\n",
    "print(l3)\n",
    "l4=[]\n",
    "l4.append(l1)\n",
    "l4.append(l2)\n",
    "l4.append(l3)\n",
    "l4.sort()\n",
    "print(l4)"
   ]
  },
  {
   "cell_type": "markdown",
   "metadata": {},
   "source": [
    "10.Write  a  program  that  reads  a  date  from  the  user  and  computes  its immediate successor. The date is the format YYYY-MM-DD. So, 2020-04-15 will have the successor 2020-04-16.\n"
   ]
  },
  {
   "cell_type": "code",
   "execution_count": 1,
   "metadata": {},
   "outputs": [
    {
     "name": "stdout",
     "output_type": "stream",
     "text": [
      "Enter a year : 2012\n",
      "Enter a month between 1 to 12 : 6\n",
      "Enter a day between 1 to 31 : 27\n",
      "The immediate successor is YYYY-MM-DD : 2012-6-28.\n"
     ]
    }
   ],
   "source": [
    "year=int(input(\"Enter a year : \"))\n",
    "if year%400== 0:\n",
    "    leap_year=True\n",
    "elif year%100==0:\n",
    "    leap_year=False\n",
    "elif year%4==0:\n",
    "    leap_year=True\n",
    "else:\n",
    "    leap_year=False\n",
    "month=int(input(\"Enter a month between 1 to 12 : \"))\n",
    "if month in (1, 3, 5, 7, 8, 10, 12):\n",
    "    month_length=31\n",
    "elif month==2:\n",
    "    if leap_year:\n",
    "        month_length=29\n",
    "    else:\n",
    "        month_length=28\n",
    "else:\n",
    "    month_length=30\n",
    "day=int(input(\"Enter a day between 1 to 31 : \"))\n",
    "if day<month_length:\n",
    "    day+=1\n",
    "else:\n",
    "    day=1\n",
    "    if month==12:\n",
    "        month=1\n",
    "        year+=1\n",
    "    else:\n",
    "        month+=1\n",
    "print(\"The immediate successor is YYYY-MM-DD : %d-%d-%d.\" %(year,month,day))"
   ]
  },
  {
   "cell_type": "code",
   "execution_count": null,
   "metadata": {},
   "outputs": [],
   "source": [
    "15.Write a program that finds the longest palindromic substring of a given string"
   ]
  },
  {
   "cell_type": "code",
   "execution_count": 5,
   "metadata": {},
   "outputs": [
    {
     "ename": "IndentationError",
     "evalue": "unexpected indent (<ipython-input-5-2b6ef3c19b96>, line 8)",
     "output_type": "error",
     "traceback": [
      "\u001b[1;36m  File \u001b[1;32m\"<ipython-input-5-2b6ef3c19b96>\"\u001b[1;36m, line \u001b[1;32m8\u001b[0m\n\u001b[1;33m    if substr1==substr1[::-1]:\u001b[0m\n\u001b[1;37m    ^\u001b[0m\n\u001b[1;31mIndentationError\u001b[0m\u001b[1;31m:\u001b[0m unexpected indent\n"
     ]
    }
   ],
   "source": [
    "def palsub(string):\n",
    "    if(string==string[::-1]):\n",
    "        return string\n",
    "    longsub=''\n",
    "    for i in range(0,len(string)):\n",
    "         for j in range(len(string)-i):\n",
    "                   substr=string[i:len(string)-j]\n",
    "                    if substr1==substr1[::-1]:"
   ]
  },
  {
   "cell_type": "code",
   "execution_count": null,
   "metadata": {},
   "outputs": [],
   "source": []
  }
 ],
 "metadata": {
  "kernelspec": {
   "display_name": "Python 3",
   "language": "python",
   "name": "python3"
  },
  "language_info": {
   "codemirror_mode": {
    "name": "ipython",
    "version": 3
   },
   "file_extension": ".py",
   "mimetype": "text/x-python",
   "name": "python",
   "nbconvert_exporter": "python",
   "pygments_lexer": "ipython3",
   "version": "3.8.2"
  }
 },
 "nbformat": 4,
 "nbformat_minor": 4
}
